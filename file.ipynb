{
 "cells": [
  {
   "cell_type": "code",
   "execution_count": 1,
   "metadata": {},
   "outputs": [],
   "source": [
    "import os"
   ]
  },
  {
   "cell_type": "code",
   "execution_count": 2,
   "metadata": {},
   "outputs": [],
   "source": [
    "a = os.listdir('./data/data3/')\n",
    "b = os.listdir('./data/mask3/')"
   ]
  },
  {
   "cell_type": "code",
   "execution_count": 3,
   "metadata": {},
   "outputs": [
    {
     "name": "stdout",
     "output_type": "stream",
     "text": [
      "288.png\n",
      "43.png\n",
      "63.png\n",
      "75.png\n",
      "290\n"
     ]
    }
   ],
   "source": [
    "cnt = 0\n",
    "for f in a:\n",
    "    if f not in b:\n",
    "        print(f)\n",
    "    else:\n",
    "        cnt += 1\n",
    "print(cnt)"
   ]
  },
  {
   "cell_type": "code",
   "execution_count": 4,
   "metadata": {},
   "outputs": [
    {
     "name": "stdout",
     "output_type": "stream",
     "text": [
      "290\n"
     ]
    }
   ],
   "source": [
    "cnt = 0\n",
    "for f in b:\n",
    "    if f not in a:\n",
    "        print(f)\n",
    "    else:\n",
    "        cnt += 1\n",
    "print(cnt)"
   ]
  },
  {
   "cell_type": "code",
   "execution_count": 13,
   "metadata": {},
   "outputs": [
    {
     "data": {
      "text/plain": [
       "(500, 60)"
      ]
     },
     "execution_count": 13,
     "metadata": {},
     "output_type": "execute_result"
    }
   ],
   "source": [
    "import numpy as np\n",
    "from PIL import Image\n",
    "im = Image.open('./data/mask/1.jpg')\n",
    "im_np = np.array(im)\n",
    "im_np.shape"
   ]
  },
  {
   "cell_type": "code",
   "execution_count": 9,
   "metadata": {},
   "outputs": [],
   "source": [
    "import numpy as np\n",
    "from PIL import Image\n",
    "fpath = './result/images_1007_a619ea2d8c6ba944c6b9_OUT.png'\n",
    "im = Image.open(fpath)\n",
    "im_np = np.array(im)\n",
    "im_np.shape\n",
    "for i in range(500):\n",
    "    for j in range(60):\n",
    "        if im_np[i][j] != 0:\n",
    "            print(im_np[i][j])\n"
   ]
  },
  {
   "cell_type": "code",
   "execution_count": 1,
   "metadata": {},
   "outputs": [],
   "source": [
    "import numpy as np\n",
    "from PIL import Image\n",
    "import os\n",
    "train_mask_dir = './data/train_mask/'\n",
    "test_mask_dir = './data/test_mask/'\n",
    "train_mask_list = os.listdir(train_mask_dir)\n",
    "test_mask_list = os.listdir(test_mask_dir)\n",
    "train_zeros = np.zeros(len(train_mask_list))\n",
    "test_zeros = np.zeros(len(test_mask_list))\n",
    "idx = 0\n",
    "for file in train_mask_list:\n",
    "    fpath = train_mask_dir + file\n",
    "    im = Image.open(fpath)\n",
    "    im_np = np.array(im)\n",
    "    train_zeros[idx] = (np.count_nonzero(im_np)) / (im_np.shape[0] * im_np.shape[1])\n",
    "    idx += 1\n",
    "idx = 0\n",
    "for file in test_mask_list:\n",
    "    fpath = test_mask_dir + file\n",
    "    im = Image.open(fpath)\n",
    "    im_np = np.array(im)\n",
    "    test_zeros[idx] = (np.count_nonzero(im_np)) / (im_np.shape[0] * im_np.shape[1])\n",
    "    idx += 1"
   ]
  },
  {
   "cell_type": "code",
   "execution_count": 3,
   "metadata": {},
   "outputs": [
    {
     "name": "stdout",
     "output_type": "stream",
     "text": [
      "[0.1405     0.16733333 0.16906667 0.1592     0.1524     0.12313333\n",
      " 0.14023333 0.1424     0.12853333 0.12283333 0.11976667 0.14933333\n",
      " 0.13933333 0.13463333 0.1419     0.14383333 0.13863333 0.11846667\n",
      " 0.12413333 0.14703333 0.1455     0.10583333 0.13006667 0.14726667\n",
      " 0.16146667 0.1176    ]\n"
     ]
    }
   ],
   "source": [
    "print(test_zeros)"
   ]
  },
  {
   "cell_type": "code",
   "execution_count": 6,
   "metadata": {},
   "outputs": [
    {
     "name": "stdout",
     "output_type": "stream",
     "text": [
      "274.png\n",
      "275.png\n",
      "276.png\n",
      "277.png\n",
      "278.png\n",
      "279.png\n",
      "280.png\n",
      "281.png\n",
      "282.png\n",
      "283.png\n",
      "284.png\n",
      "285.png\n",
      "286.png\n",
      "287.png\n",
      "289.png\n",
      "290.png\n",
      "291.png\n",
      "292.png\n",
      "293.png\n",
      "294.png\n",
      "295.png\n",
      "296.png\n",
      "297.png\n",
      "298.png\n",
      "299.png\n",
      "300.png\n"
     ]
    }
   ],
   "source": [
    "import numpy as np\n",
    "from PIL import Image\n",
    "import os\n",
    "\n",
    "ml = os.listdir('./data/test_data/')\n",
    "for data in ml:\n",
    "    im = Image.open('./data/test_data/'+data)\n",
    "    im_np = np.array(im)\n",
    "    for y in range(0, im_np.shape[0], 5):\n",
    "        for x in range(im_np.shape[1]):\n",
    "            im_np[y][x] = 255\n",
    "    img = Image.fromarray(im_np)\n",
    "    img.save('./data/test_data2/'+data)\n",
    "    print(data)"
   ]
  },
  {
   "cell_type": "code",
   "execution_count": null,
   "metadata": {},
   "outputs": [],
   "source": []
  }
 ],
 "metadata": {
  "kernelspec": {
   "display_name": "Python 3.10.4 ('torch')",
   "language": "python",
   "name": "python3"
  },
  "language_info": {
   "codemirror_mode": {
    "name": "ipython",
    "version": 3
   },
   "file_extension": ".py",
   "mimetype": "text/x-python",
   "name": "python",
   "nbconvert_exporter": "python",
   "pygments_lexer": "ipython3",
   "version": "3.9.12"
  },
  "orig_nbformat": 4,
  "vscode": {
   "interpreter": {
    "hash": "74e97a46ab25df3d0ec8c63a87dd550fa1ed4a01001eadd2bd84c7ba7b0e19fd"
   }
  }
 },
 "nbformat": 4,
 "nbformat_minor": 2
}
