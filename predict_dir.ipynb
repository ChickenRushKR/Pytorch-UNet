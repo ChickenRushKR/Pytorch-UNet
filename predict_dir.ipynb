{
 "cells": [
  {
   "cell_type": "code",
   "execution_count": 1,
   "metadata": {},
   "outputs": [],
   "source": [
    "import os"
   ]
  },
  {
   "cell_type": "code",
   "execution_count": 5,
   "metadata": {},
   "outputs": [],
   "source": [
    "inputdir = './data/test_data2_concat/'\n",
    "modelname = './checkpoints/checkpoint_epoch50.pth'\n",
    "outputdir_main = './result/' + \n",
    "outputdir = './result/data2_concat/test_pred/'\n",
    "filename = './predict_cmd.txt'\n",
    "inputList = ''\n",
    "outputList = ''\n",
    "with open(filename, 'w') as f:\n",
    "\n",
    "    filelist = os.listdir(inputdir)\n",
    "    i = 0\n",
    "    for file in filelist:\n",
    "        inputList += inputdir + file + ' '\n",
    "        outputList += outputdir + file + ' '\n",
    "        if i % 20 == 19:\n",
    "            cmd = f\"python predict.py --model {modelname} --input {inputList} --output {outputList}\\n\"\n",
    "            f.write(cmd)\n",
    "            inputList = ''\n",
    "            outputList = ''\n",
    "        i += 1\n",
    "    # print(cmd)\n",
    "\n",
    "    "
   ]
  },
  {
   "cell_type": "code",
   "execution_count": 53,
   "metadata": {},
   "outputs": [],
   "source": [
    "def image_concat(img1, img2):\n",
    "    new_img = np.zeros((512, 64, 3))\n",
    "    \n",
    "    new_img[:,:,0] = img1\n",
    "    new_img[:,:,1] = img1\n",
    "    new_img[:,:,2] = img1\n",
    "    new_img[:,:,2] = img2\n",
    "    return new_img"
   ]
  },
  {
   "cell_type": "code",
   "execution_count": 54,
   "metadata": {},
   "outputs": [],
   "source": [
    "from PIL import Image\n",
    "import numpy as np\n",
    "img1 = Image.open('./data/data2_concat2/1.png').convert(\"L\")\n",
    "img2 = Image.open('./data/mask3/1.png').convert(\"L\")\n",
    "img = image_concat(img1, img2)"
   ]
  },
  {
   "cell_type": "code",
   "execution_count": 55,
   "metadata": {},
   "outputs": [],
   "source": [
    "img = Image.fromarray(img, 'RGB')\n",
    "img.show()"
   ]
  }
 ],
 "metadata": {
  "kernelspec": {
   "display_name": "Python 3.9.12 ('torch')",
   "language": "python",
   "name": "python3"
  },
  "language_info": {
   "codemirror_mode": {
    "name": "ipython",
    "version": 3
   },
   "file_extension": ".py",
   "mimetype": "text/x-python",
   "name": "python",
   "nbconvert_exporter": "python",
   "pygments_lexer": "ipython3",
   "version": "3.9.12"
  },
  "orig_nbformat": 4,
  "vscode": {
   "interpreter": {
    "hash": "74e97a46ab25df3d0ec8c63a87dd550fa1ed4a01001eadd2bd84c7ba7b0e19fd"
   }
  }
 },
 "nbformat": 4,
 "nbformat_minor": 2
}
